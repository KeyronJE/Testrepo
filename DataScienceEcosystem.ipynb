{
 "cells": [
  {
   "cell_type": "markdown",
   "id": "2ef7019a-87eb-4eba-941f-5dc6171c3675",
   "metadata": {},
   "source": [
    "## Author\n",
    "Keyron"
   ]
  },
  {
   "cell_type": "markdown",
   "id": "6dcfc83e-9f6f-4b2a-a209-caa6d53f15c9",
   "metadata": {},
   "source": [
    "# Data Science Tools Ecosystem"
   ]
  },
  {
   "cell_type": "markdown",
   "id": "f50fecc9-52b7-4f79-ad4b-2877b9f42dec",
   "metadata": {},
   "source": [
    " In this notebook, Data Science Tools and Ecosystem are summarized."
   ]
  },
  {
   "cell_type": "markdown",
   "id": "11ba96ae-fce9-4f5f-81b6-a38d06f81f58",
   "metadata": {},
   "source": [
    "**Objectives :**\n",
    "\n",
    "- List popular Data Science languages\n",
    "- List popular Data Science Libraries\n",
    "- List popular Data Science tools\n",
    "- Create cell code for arithmetic expressions"
   ]
  },
  {
   "cell_type": "markdown",
   "id": "69f472fb-f138-481c-a924-9fbf8753d79a",
   "metadata": {},
   "source": [
    "Some of the popular languages that Data Scientists use are :"
   ]
  },
  {
   "cell_type": "markdown",
   "id": "d2d8c3d0-1370-41a1-b666-922e56c312c5",
   "metadata": {},
   "source": [
    "1.  Python\n",
    "2.  R\n",
    "3.  JAVA\n",
    "4.  SQL"
   ]
  },
  {
   "cell_type": "markdown",
   "id": "d85e2319-b79b-4c15-b845-64cbbd352ad2",
   "metadata": {},
   "source": [
    "Some of the commonly used libraries used by Data Scientist include :"
   ]
  },
  {
   "cell_type": "markdown",
   "id": "9eecc5cc-8ecd-4833-b539-c3f42d553fd7",
   "metadata": {},
   "source": [
    "1. Panda (data structures/tools)\n",
    "2. Numpy (arrays/ matrices)\n",
    "3. Tensorflow (Deep Learning production/dev)\n",
    "4. Seaborn (heat maps/time series)\n",
    "5. keras (standard deep learning neural networks)"
   ]
  },
  {
   "cell_type": "markdown",
   "id": "2b87cb98-94a3-4634-b9e9-5ffd172176f1",
   "metadata": {},
   "source": [
    "|Data Science Tools|\n",
    "|--------|\n",
    "|Jupyter|\n",
    "|Rstudio|\n",
    "|MySQL|"
   ]
  },
  {
   "cell_type": "markdown",
   "id": "7b36e6a6-87d7-4949-8f62-55fffe888caa",
   "metadata": {},
   "source": [
    "### Below are a few examples of evaluating arithmetic expressions in Python"
   ]
  },
  {
   "cell_type": "code",
   "execution_count": 34,
   "id": "bec1bc20-241a-4338-a833-24882b6dc989",
   "metadata": {},
   "outputs": [
    {
     "data": {
      "text/plain": [
       "17"
      ]
     },
     "execution_count": 34,
     "metadata": {},
     "output_type": "execute_result"
    }
   ],
   "source": [
    "# This is a simple arithmetic expression to multiply then add integers\n",
    "(3*4)+5"
   ]
  },
  {
   "cell_type": "code",
   "execution_count": 36,
   "id": "20eb995c-6286-4d4d-90ed-164e1718dd31",
   "metadata": {},
   "outputs": [
    {
     "name": "stdout",
     "output_type": "stream",
     "text": [
      "3.3333333333333335\n"
     ]
    }
   ],
   "source": [
    "# This will convert 200 minutes to hours by dividing it by 60\n",
    "x = 200/60\n",
    "print(x)"
   ]
  },
  {
   "cell_type": "code",
   "execution_count": null,
   "id": "17872bec-0a88-4da9-bfc2-4146bab3fec3",
   "metadata": {},
   "outputs": [],
   "source": []
  }
 ],
 "metadata": {
  "kernelspec": {
   "display_name": "Python [conda env:base] *",
   "language": "python",
   "name": "conda-base-py"
  },
  "language_info": {
   "codemirror_mode": {
    "name": "ipython",
    "version": 3
   },
   "file_extension": ".py",
   "mimetype": "text/x-python",
   "name": "python",
   "nbconvert_exporter": "python",
   "pygments_lexer": "ipython3",
   "version": "3.12.7"
  }
 },
 "nbformat": 4,
 "nbformat_minor": 5
}
